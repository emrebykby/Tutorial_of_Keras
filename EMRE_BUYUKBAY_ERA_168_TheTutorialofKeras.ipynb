{
  "nbformat": 4,
  "nbformat_minor": 0,
  "metadata": {
    "colab": {
      "provenance": []
    },
    "kernelspec": {
      "name": "python3",
      "display_name": "Python 3"
    },
    "language_info": {
      "name": "python"
    }
  },
  "cells": [
    {
      "cell_type": "markdown",
      "source": [
        "***EMRE BUYUKBAY ERA-168 KERAS LIBRARY TUTORIAL***\n",
        "\n",
        "---"
      ],
      "metadata": {
        "id": "Gr7nnLkqf5Jt"
      }
    },
    {
      "cell_type": "markdown",
      "source": [
        "\n",
        "\n",
        "---\n",
        "# ***Note: For run the code we need to run the blocks orderly.***\n",
        "\n",
        "\n",
        "---\n",
        "\n"
      ],
      "metadata": {
        "id": "Pqy6O-8JTAd0"
      }
    },
    {
      "cell_type": "markdown",
      "source": [
        "First of all we can start this tutorial with what is Python.\n",
        "\n",
        ">Python, one of the most popular programming languages in the world, has created everything from Netflix’s recommendation algorithm to the software that controls self-driving cars. Python is a general-purpose language, which means it’s designed to be used in a range of applications, including data science, software and web development, automation, and generally getting stuff done. So we are using Python for machine learning and deep learning because of these reosens.\n",
        "\n",
        "\n",
        "---\n",
        "\n"
      ],
      "metadata": {
        "id": "xnukL8R848jr"
      }
    },
    {
      "cell_type": "markdown",
      "source": [
        "Secondly, we can continue with short introduction of Keras library and machine learning.\n",
        "\n",
        "> Keras is a high-level, deep learning API developed by Google for implementing neural networks. Keras is relatively easy to learn and work with because it provides a python frontend with a high level of abstraction while having the option of multiple back-ends for computation purposes. This makes Keras slower than other deep learning frameworks, but extremely beginner-friendly.\n",
        "\n",
        "\n",
        "---\n",
        "\n",
        "\n",
        "\n",
        "**Keras allows you to switch between different back ends. The frameworks supported by Keras are:**\n",
        "\n",
        "\n",
        "*   Tensorflow\n",
        "*   Theano\n",
        "*   PlaidML\n",
        "*   MXNet\n",
        "*   CNTK (Microsoft Cognitive Toolkit)\n",
        "\n",
        "Out of these five frameworks, TensorFlow has adopted Keras as its official high-level API.\n",
        "\n",
        "\n",
        "---\n",
        "\n",
        "\n",
        "\n",
        "\n",
        "\n",
        "\n",
        "\n",
        "\n",
        "\n",
        "\n",
        "\n"
      ],
      "metadata": {
        "id": "jYmHkGTB5uot"
      }
    },
    {
      "cell_type": "markdown",
      "source": [
        "Lasty the environment. We can use several programs and IDEs for machine learning development but I used Google COLAB.\n",
        "\n",
        "\n",
        "> Colaboratory (\"Colab\" for short)  is a data analysis and machine learning tool that allows you to combine executable Python code and rich text along with charts, images, HTML, LaTeX and more into a single document stored in Google Drive.\n",
        "\n",
        "For these reasons I thought it will be easier and faster using Google COLAB.\n",
        "\n",
        "---\n",
        "\n",
        "\n",
        "\n"
      ],
      "metadata": {
        "id": "Jxjk77eZ6W8S"
      }
    },
    {
      "cell_type": "markdown",
      "source": [
        "First we need to instal the libaries that we will use \n",
        "\n",
        "The sample installation is like that\n",
        "\n",
        "`$ pip install tensorflow`\n",
        "\n",
        "###### We installed tensorflow becasue Keras is integradet within Tensorflow library.\n",
        "---\n",
        "\n",
        "\n"
      ],
      "metadata": {
        "id": "B2fK0hA3Q6L8"
      }
    },
    {
      "cell_type": "markdown",
      "source": [
        "\n",
        "\n",
        "---\n",
        "\n",
        "\n",
        "*But here we are using Google Colab which has a lot of this kind of libraries installed. So we don't need to install these libaries again.*\n",
        "\n",
        "---\n",
        "\n"
      ],
      "metadata": {
        "id": "EcJAt2ud7TL8"
      }
    },
    {
      "cell_type": "markdown",
      "source": [
        "Then we need to import the libraries that we will use.\n"
      ],
      "metadata": {
        "id": "-oZu2-oLf3m-"
      }
    },
    {
      "cell_type": "code",
      "source": [
        "import tensorflow #Before importing Keras we need to import this\n",
        "from tensorflow import keras \n",
        "import numpy as np #We need this library for some math \n",
        "import pandas as pd #This will allow us to read in our data\n",
        "import matplotlib.pyplot as plt #This will let us graph our lineer regression data"
      ],
      "metadata": {
        "id": "0cPOMyixfdk6"
      },
      "execution_count": 1,
      "outputs": []
    },
    {
      "cell_type": "markdown",
      "source": [
        "We need a data to work with. I found a csv file on the internet that includes house prices that depends squarefeet."
      ],
      "metadata": {
        "id": "XNkFx7IEVCDE"
      }
    },
    {
      "cell_type": "code",
      "source": [
        "df = pd.read_csv('drive/MyDrive/Colab Notebooks/IowaHousingPrices.csv') #We are adding our data file (csv) to code using pandas"
      ],
      "metadata": {
        "id": "9au4VIsmf2RS"
      },
      "execution_count": 2,
      "outputs": []
    },
    {
      "cell_type": "markdown",
      "source": [
        "Now we will create two variable that will store values which is written in csv file"
      ],
      "metadata": {
        "id": "Wq0uFrP9XZlH"
      }
    },
    {
      "cell_type": "code",
      "source": [
        "squareFeet = df[['SquareFeet']].values #We are reading squarefeet coulmn datas and store in our variable\n",
        "salePrice = df[['SalePrice']].values #We are reading Saleprice coulmn datas and store in our variable"
      ],
      "metadata": {
        "id": "jvKXKU6iXA0B"
      },
      "execution_count": 3,
      "outputs": []
    },
    {
      "cell_type": "markdown",
      "source": [
        "Finally we will create our model with Keras\n",
        "\n",
        "When we run this block of code our model will be trained\n"
      ],
      "metadata": {
        "id": "NxQIiylna1Q0"
      }
    },
    {
      "cell_type": "code",
      "source": [
        "model = tensorflow.keras.Sequential() #At the beginning of using Keras model we need to identify our model like that\n",
        "model.add(tensorflow.keras.layers.Dense(1, input_shape=(1,))) #Dense allow us to identify how much neural learning will enter and also how much input we will insert. We are only giving squarefeet input so we made it 1\n",
        "model.compile(tensorflow.keras.optimizers.Adam(learning_rate = 1), 'mean_squared_error') #With this line of code we are compiling our model with optimizers. optimizers will reduce error. I used Adam optimizer but there a lots but Adam is best one and faster than others. Also we set learning range to 1 but it is actually big number but we are dealing with not much data (generraly it sets under 0.5) and we used mean square error that will make error a sqaure then Adam optimizer easily reduce that error box\n",
        "model.fit(squareFeet,salePrice, epochs=30, batch_size=10) #In here we train our model. we give x parameter as squareFeet and y paramter as salePrice. epochs is set to 30 and it means the model will read through data 30 times and  batch size is set 10 and it means the model will read 10 data at a time. Normally it is ibg but our data is not too much."
      ],
      "metadata": {
        "colab": {
          "base_uri": "https://localhost:8080/"
        },
        "id": "XYtoxWF_XvgZ",
        "outputId": "4b1c5e22-a893-45b9-a2b8-192fc34b13f1"
      },
      "execution_count": 4,
      "outputs": [
        {
          "output_type": "stream",
          "name": "stdout",
          "text": [
            "Epoch 1/30\n",
            "146/146 [==============================] - 1s 3ms/step - loss: 13756298240.0000\n",
            "Epoch 2/30\n",
            "146/146 [==============================] - 0s 3ms/step - loss: 3345009152.0000\n",
            "Epoch 3/30\n",
            "146/146 [==============================] - 0s 2ms/step - loss: 3190172928.0000\n",
            "Epoch 4/30\n",
            "146/146 [==============================] - 0s 2ms/step - loss: 3189801472.0000\n",
            "Epoch 5/30\n",
            "146/146 [==============================] - 0s 2ms/step - loss: 3193498112.0000\n",
            "Epoch 6/30\n",
            "146/146 [==============================] - 0s 2ms/step - loss: 3189496320.0000\n",
            "Epoch 7/30\n",
            "146/146 [==============================] - 0s 2ms/step - loss: 3190257920.0000\n",
            "Epoch 8/30\n",
            "146/146 [==============================] - 0s 2ms/step - loss: 3205972224.0000\n",
            "Epoch 9/30\n",
            "146/146 [==============================] - 0s 2ms/step - loss: 3194283776.0000\n",
            "Epoch 10/30\n",
            "146/146 [==============================] - 0s 2ms/step - loss: 3209895168.0000\n",
            "Epoch 11/30\n",
            "146/146 [==============================] - 0s 2ms/step - loss: 3213852160.0000\n",
            "Epoch 12/30\n",
            "146/146 [==============================] - 0s 1ms/step - loss: 3202464256.0000\n",
            "Epoch 13/30\n",
            "146/146 [==============================] - 0s 2ms/step - loss: 3191036160.0000\n",
            "Epoch 14/30\n",
            "146/146 [==============================] - 0s 2ms/step - loss: 3220360704.0000\n",
            "Epoch 15/30\n",
            "146/146 [==============================] - 0s 1ms/step - loss: 3211553536.0000\n",
            "Epoch 16/30\n",
            "146/146 [==============================] - 0s 2ms/step - loss: 3201740288.0000\n",
            "Epoch 17/30\n",
            "146/146 [==============================] - 0s 2ms/step - loss: 3184022528.0000\n",
            "Epoch 18/30\n",
            "146/146 [==============================] - 0s 2ms/step - loss: 3200375296.0000\n",
            "Epoch 19/30\n",
            "146/146 [==============================] - 0s 2ms/step - loss: 3200563968.0000\n",
            "Epoch 20/30\n",
            "146/146 [==============================] - 0s 2ms/step - loss: 3210468352.0000\n",
            "Epoch 21/30\n",
            "146/146 [==============================] - 0s 1ms/step - loss: 3203019264.0000\n",
            "Epoch 22/30\n",
            "146/146 [==============================] - 0s 2ms/step - loss: 3204061440.0000\n",
            "Epoch 23/30\n",
            "146/146 [==============================] - 0s 2ms/step - loss: 3203562240.0000\n",
            "Epoch 24/30\n",
            "146/146 [==============================] - 0s 2ms/step - loss: 3200283392.0000\n",
            "Epoch 25/30\n",
            "146/146 [==============================] - 0s 3ms/step - loss: 3196564480.0000\n",
            "Epoch 26/30\n",
            "146/146 [==============================] - 0s 2ms/step - loss: 3198757632.0000\n",
            "Epoch 27/30\n",
            "146/146 [==============================] - 0s 2ms/step - loss: 3192162560.0000\n",
            "Epoch 28/30\n",
            "146/146 [==============================] - 0s 2ms/step - loss: 3168905472.0000\n",
            "Epoch 29/30\n",
            "146/146 [==============================] - 0s 3ms/step - loss: 3241010944.0000\n",
            "Epoch 30/30\n",
            "146/146 [==============================] - 0s 2ms/step - loss: 3208579840.0000\n"
          ]
        },
        {
          "output_type": "execute_result",
          "data": {
            "text/plain": [
              "<keras.callbacks.History at 0x7f88a1743a30>"
            ]
          },
          "metadata": {},
          "execution_count": 4
        }
      ]
    },
    {
      "cell_type": "markdown",
      "source": [
        "After tranning our model we can now plot it with graph"
      ],
      "metadata": {
        "id": "9wa_eKexll0Z"
      }
    },
    {
      "cell_type": "code",
      "source": [
        "df.plot(kind='scatter', x='SquareFeet', y='SalePrice', title='Housing Prices and Square Footage') #We are plotting our model with datafrane plot which is in Pandas Library\n",
        "y_pred = model.predict(squareFeet) #We are making a prediction with squarefeet values.\n",
        "plt.plot(squareFeet, y_pred, color = 'red')"
      ],
      "metadata": {
        "colab": {
          "base_uri": "https://localhost:8080/",
          "height": 507
        },
        "id": "AODeGFL7knt-",
        "outputId": "42dd6e43-1feb-4ce8-99ab-1a1a78dd923a"
      },
      "execution_count": 5,
      "outputs": [
        {
          "output_type": "stream",
          "name": "stdout",
          "text": [
            "46/46 [==============================] - 0s 3ms/step\n"
          ]
        },
        {
          "output_type": "execute_result",
          "data": {
            "text/plain": [
              "[<matplotlib.lines.Line2D at 0x7f88a1654670>]"
            ]
          },
          "metadata": {},
          "execution_count": 5
        },
        {
          "output_type": "display_data",
          "data": {
            "text/plain": [
              "<Figure size 640x480 with 1 Axes>"
            ],
            "image/png": "[encoded data removed]"
          },
          "metadata": {}
        }
      ]
    },
    {
      "cell_type": "markdown",
      "source": [
        "Now we trained our model and we can predict a house price with creating new variable and sending it to our model"
      ],
      "metadata": {
        "id": "F7PCVOvenOwJ"
      }
    },
    {
      "cell_type": "code",
      "source": [
        "newSF = [1562] #we are creating a array which is keeping our input value.\n",
        "outputPredict = tensorflow.convert_to_tensor(newSF) #To make prediction we need to convert our array to tensorflow array becasue model.predict function working with tensorflow arrays.\n",
        "answerModel = model.predict(outputPredict) #then we are makşing prediction\n",
        "lastOne = np.round(answerModel,0) #to get more understandable result wer are rounding our output.\n",
        "print(\"Output Sale Price : \",lastOne) "
      ],
      "metadata": {
        "colab": {
          "base_uri": "https://localhost:8080/"
        },
        "id": "aTlGKdsPoG79",
        "outputId": "6b3b279d-e1fe-4ba9-ca38-fef313ccf09c"
      },
      "execution_count": 6,
      "outputs": [
        {
          "output_type": "stream",
          "name": "stdout",
          "text": [
            "1/1 [==============================] - 0s 267ms/step\n",
            "Output Sale Price :  [[185355.]]\n"
          ]
        }
      ]
    },
    {
      "cell_type": "markdown",
      "source": [
        "\n",
        "\n",
        "---\n",
        "\n",
        "\n",
        "\n",
        "---\n",
        "\n",
        "\n",
        "\n",
        "---\n",
        "\n",
        "\n",
        "THE END\n",
        "\n",
        "We can improve our model and program but this was a beginner guide.\n",
        "\n",
        "We can understand machine learning environment and keras library which is used \n",
        "for machine learning and deep learning.\n",
        "\n",
        "*Thank You*\n",
        "\n",
        "*Emre BUYUKBAY*\n",
        "\n",
        "*ERA-168*\n",
        "\n",
        "\n",
        "---\n",
        "\n",
        "\n",
        "\n",
        "---\n",
        "\n",
        "\n",
        "\n",
        "---\n",
        "\n"
      ],
      "metadata": {
        "id": "QjIYFDF6SJ0V"
      }
    }
  ]
}